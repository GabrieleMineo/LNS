{
 "cells": [
  {
   "cell_type": "code",
   "execution_count": null,
   "metadata": {},
   "outputs": [],
   "source": [
    "import numpy as np\n",
    "import scipy as sp\n",
    "from matplotlib import pyplot as plt\n",
    "\n",
    "unif_clt = np.loadtxt(\"rand/unif_clt.txt\")\n",
    "gauss_clt = np.loadtxt(\"rand/gauss_clt.txt\")\n",
    "unif_clt = np.loadtxt(\"rand/exponential_clt.txt\")\n",
    "gauss_clt = np.loadtxt(\"rand/cauchy_clt.txt\")\n",
    "print(gauss_clt.max())\n",
    "plt.hist(unif_clt, bins=20)\n",
    "plt.hist(gauss_clt, bins=20)\n",
    "\n",
    "plt.title(\"histogram\") \n",
    "plt.show()"
   ]
  }
 ],
 "metadata": {
  "kernelspec": {
   "display_name": "Python 3",
   "language": "python",
   "name": "python3"
  }
 },
 "nbformat": 4,
 "nbformat_minor": 2
}
